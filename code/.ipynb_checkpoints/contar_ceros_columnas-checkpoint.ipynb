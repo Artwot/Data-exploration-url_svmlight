{
 "cells": [
  {
   "cell_type": "markdown",
   "id": "a8e91368-9475-4b82-ae19-01868bbf281d",
   "metadata": {},
   "source": [
    "# Notebook para calcular ceros en un archivo por columna"
   ]
  },
  {
   "cell_type": "code",
   "execution_count": null,
   "id": "9356521d-e214-4b42-8f04-79decf378431",
   "metadata": {},
   "outputs": [],
   "source": [
    "import findspark\n",
    "findspark.init()\n",
    "import numpy as np\n",
    "from pyspark.sql import SparkSession\n",
    "from pyspark import SparkContext, SparkConf\n",
    "\n",
    "conf = (SparkConf()\n",
    "        .setAppName(\"Calcular Ceros Columnas\") \\\n",
    "        .set('spark.driver.cores', '6') \\\n",
    "        .set('spark.executor.cores', '6') \\\n",
    "        .set('spark.driver.memory', '6G') \\\n",
    "        .set('spark.sql.autoBroadcastJoinThreshold', '-1') \\\n",
    "        .set('spark.executor.memory', '6G'))\n",
    "sc = SparkContext(conf=conf)"
   ]
  },
  {
   "cell_type": "code",
   "execution_count": 3,
   "id": "7ede11f0-6e59-472a-baa7-a26b697c9039",
   "metadata": {},
   "outputs": [],
   "source": [
    "spark = SparkSession.builder.getOrCreate()"
   ]
  },
  {
   "cell_type": "code",
   "execution_count": 128,
   "id": "fc002b46-7d68-4467-807d-65e6ce7a82cc",
   "metadata": {},
   "outputs": [],
   "source": [
    "data = spark.read.format('libsvm')\\\n",
    "    .load(\"../data/url_svmlight/403995_x_instances_10.svm\")"
   ]
  },
  {
   "cell_type": "code",
   "execution_count": 129,
   "id": "3f6ee872-6ba1-48af-879a-ad00e456e2c0",
   "metadata": {},
   "outputs": [],
   "source": [
    "data2 = data.select('features').rdd"
   ]
  },
  {
   "cell_type": "code",
   "execution_count": 135,
   "id": "6a6f9b4f-a0f7-4b75-9658-17d8c2a00948",
   "metadata": {},
   "outputs": [
    {
     "data": {
      "text/plain": [
       "20"
      ]
     },
     "execution_count": 135,
     "metadata": {},
     "output_type": "execute_result"
    }
   ],
   "source": [
    "data2.countApprox(50)"
   ]
  },
  {
   "cell_type": "code",
   "execution_count": 131,
   "id": "3f8fabb8-1da2-4eac-945d-4fe30671a6b5",
   "metadata": {},
   "outputs": [],
   "source": [
    "#data2.filter(lambda x: x[0][2] == 0.0).count()"
   ]
  },
  {
   "cell_type": "code",
   "execution_count": 137,
   "id": "40352f35-bed9-4f10-b7c0-5d4b9f1fec88",
   "metadata": {},
   "outputs": [
    {
     "name": "stdout",
     "output_type": "stream",
     "text": [
      "Columna\tCeros\n",
      "1 \t 20\n",
      "2 \t 10\n",
      "3 \t 20\n",
      "4 \t 0\n",
      "5 \t 0\n",
      "6 \t 0\n",
      "7 \t 20\n",
      "8 \t 20\n",
      "9 \t 20\n",
      "10 \t 15\n"
     ]
    },
    {
     "ename": "KeyboardInterrupt",
     "evalue": "",
     "output_type": "error",
     "traceback": [
      "\u001b[0;31m---------------------------------------------------------------------------\u001b[0m\n\u001b[0;31mKeyboardInterrupt\u001b[0m                         Traceback (most recent call last)",
      "File \u001b[0;34m/home/jsarabia/miniconda3/lib/python3.8/site-packages/IPython/core/interactiveshell.py\u001b[0m, in \u001b[0;32mrun_code\u001b[0m:\nLine \u001b[0;34m3437\u001b[0m:  exec(code_obj, \u001b[36mself\u001b[39;49;00m.user_global_ns, \u001b[36mself\u001b[39;49;00m.user_ns)\n",
      "In  \u001b[0;34m[137]\u001b[0m:\nLine \u001b[0;34m4\u001b[0m:     num = data2.filter(\u001b[34mlambda\u001b[39;49;00m x: x[\u001b[34m0\u001b[39;49;00m][i] == \u001b[34m0.0\u001b[39;49;00m).count()\n",
      "File \u001b[0;34m/opt/spark/python/pyspark/rdd.py\u001b[0m, in \u001b[0;32mcount\u001b[0m:\nLine \u001b[0;34m1235\u001b[0m:  \u001b[34mreturn\u001b[39;49;00m \u001b[36mself\u001b[39;49;00m.mapPartitions(\u001b[34mlambda\u001b[39;49;00m i: [\u001b[36msum\u001b[39;49;00m(\u001b[34m1\u001b[39;49;00m \u001b[34mfor\u001b[39;49;00m _ \u001b[35min\u001b[39;49;00m i)]).sum()\n",
      "File \u001b[0;34m/opt/spark/python/pyspark/rdd.py\u001b[0m, in \u001b[0;32msum\u001b[0m:\nLine \u001b[0;34m1224\u001b[0m:  \u001b[34mreturn\u001b[39;49;00m \u001b[36mself\u001b[39;49;00m.mapPartitions(\u001b[34mlambda\u001b[39;49;00m x: [\u001b[36msum\u001b[39;49;00m(x)]).fold(\u001b[34m0\u001b[39;49;00m, operator.add)\n",
      "File \u001b[0;34m/opt/spark/python/pyspark/rdd.py\u001b[0m, in \u001b[0;32mfold\u001b[0m:\nLine \u001b[0;34m1078\u001b[0m:  vals = \u001b[36mself\u001b[39;49;00m.mapPartitions(func).collect()\n",
      "File \u001b[0;34m/opt/spark/python/pyspark/rdd.py\u001b[0m, in \u001b[0;32mcollect\u001b[0m:\nLine \u001b[0;34m949\u001b[0m:   sock_info = \u001b[36mself\u001b[39;49;00m.ctx._jvm.PythonRDD.collectAndServe(\u001b[36mself\u001b[39;49;00m._jrdd.rdd())\n",
      "File \u001b[0;34m/opt/spark/python/pyspark/rdd.py\u001b[0m, in \u001b[0;32m_jrdd\u001b[0m:\nLine \u001b[0;34m2951\u001b[0m:  python_rdd = \u001b[36mself\u001b[39;49;00m.ctx._jvm.PythonRDD(\u001b[36mself\u001b[39;49;00m._prev_jrdd.rdd(), wrapped_func,\n",
      "File \u001b[0;34m/opt/spark/python/lib/py4j-0.10.9-src.zip/py4j/java_gateway.py\u001b[0m, in \u001b[0;32m__call__\u001b[0m:\nLine \u001b[0;34m1553\u001b[0m:  \u001b[34mif\u001b[39;49;00m \u001b[36mself\u001b[39;49;00m._converters \u001b[35mis\u001b[39;49;00m \u001b[35mnot\u001b[39;49;00m \u001b[34mNone\u001b[39;49;00m \u001b[35mand\u001b[39;49;00m \u001b[36mlen\u001b[39;49;00m(\u001b[36mself\u001b[39;49;00m._converters) > \u001b[34m0\u001b[39;49;00m:\n",
      "File \u001b[0;34m/opt/spark/python/pyspark/context.py\u001b[0m, in \u001b[0;32msignal_handler\u001b[0m:\nLine \u001b[0;34m285\u001b[0m:   \u001b[34mraise\u001b[39;49;00m \u001b[36mKeyboardInterrupt\u001b[39;49;00m()\n",
      "\u001b[0;31mKeyboardInterrupt\u001b[0m: \n\u001b[0;31m---------------------------------------------------------------------------\u001b[0m"
     ]
    }
   ],
   "source": [
    "print(\"Columna\\tCeros\")\n",
    "cont_ceros = 0\n",
    "for i in range(403995):\n",
    "    num = data2.filter(lambda x: x[0][i] == 0.0).count()\n",
    "    if(i < 10):\n",
    "        print(i + 1, \"\\t\", num)\n",
    "    if (num == 0.0):\n",
    "        cont_ceros += 1\n",
    "print(\"\\nEl no. de ceros totales es:\", cont_ceros)"
   ]
  },
  {
   "cell_type": "code",
   "execution_count": null,
   "id": "66195f15-35aa-4c60-812d-c1bd518c8909",
   "metadata": {},
   "outputs": [],
   "source": [
    "sc.stop()"
   ]
  },
  {
   "cell_type": "code",
   "execution_count": null,
   "id": "bcfbc4d4-e994-4d75-ae58-dd1a592a5930",
   "metadata": {},
   "outputs": [],
   "source": []
  }
 ],
 "metadata": {
  "kernelspec": {
   "display_name": "Python 3.8 (XPython)",
   "language": "python",
   "name": "xpython"
  },
  "language_info": {
   "file_extension": ".py",
   "mimetype": "text/x-python",
   "name": "python",
   "version": "3.8.8"
  }
 },
 "nbformat": 4,
 "nbformat_minor": 5
}
