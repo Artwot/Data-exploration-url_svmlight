{
 "cells": [
  {
   "cell_type": "markdown",
   "metadata": {},
   "source": [
    "# Reducir dimensionalidad a conjuntos de datos con formato libsvm"
   ]
  },
  {
   "cell_type": "code",
   "execution_count": 1,
   "metadata": {},
   "outputs": [],
   "source": [
    "# Import SparkSession\n",
    "import findspark\n",
    "findspark.init()\n",
    "\n",
    "from pyspark.ml.evaluation import MulticlassClassificationEvaluator\n",
    "from pyspark.ml.classification import MultilayerPerceptronClassifier\n",
    "from pyspark.sql import SparkSession\n",
    "import random\n",
    "import sys\n",
    "#path = str(sys.argv[1])\n",
    "#atr = int(sys.argv[2])"
   ]
  },
  {
   "cell_type": "code",
   "execution_count": 2,
   "metadata": {},
   "outputs": [],
   "source": [
    "# Build the SparkSession\n",
    "spark = SparkSession.builder \\\n",
    "    .master(\"local[6]\") \\\n",
    "    .appName(\"Data exploration URL\") \\\n",
    "    .config(\"spark.executor.memory\", \"6gb\") \\\n",
    "    .getOrCreate()\n",
    "\n",
    "sc = spark.sparkContext"
   ]
  },
  {
   "cell_type": "code",
   "execution_count": 3,
   "metadata": {},
   "outputs": [
    {
     "data": {
      "text/plain": [
       "[('spark.driver.port', '38755'),\n",
       " ('spark.app.id', 'local-1614711439106'),\n",
       " ('spark.driver.memory', '6g'),\n",
       " ('spark.rdd.compress', 'True'),\n",
       " ('spark.serializer.objectStreamReset', '100'),\n",
       " ('spark.submit.pyFiles', ''),\n",
       " ('spark.executor.id', 'driver'),\n",
       " ('spark.executor.memory', '6gb'),\n",
       " ('spark.app.name', 'Data exploration URL'),\n",
       " ('spark.submit.deployMode', 'client'),\n",
       " ('spark.ui.showConsoleProgress', 'true'),\n",
       " ('spark.master', 'local[6]'),\n",
       " ('spark.driver.host', 'fedora')]"
      ]
     },
     "execution_count": 3,
     "metadata": {},
     "output_type": "execute_result"
    }
   ],
   "source": [
    "sc._conf.getAll()"
   ]
  },
  {
   "cell_type": "code",
   "execution_count": 4,
   "metadata": {},
   "outputs": [],
   "source": [
    "data = sc.textFile(\"../data/url_svmlight/prueba_10.svm\")"
   ]
  },
  {
   "cell_type": "code",
   "execution_count": 146,
   "metadata": {},
   "outputs": [],
   "source": [
    "# Metodo que guarda cada renglon en el archivo .svm\n",
    "def save_file(data, limit):\n",
    "    file = open('../data/url_svmlight/Dimension_' +str(limit) + '.svm', 'a')\n",
    "    file.write('\\n' + data)\n",
    "    file.close()"
   ]
  },
  {
   "cell_type": "code",
   "execution_count": 143,
   "metadata": {},
   "outputs": [],
   "source": [
    "# Metodo para reducir la dimension, a traves de un ciclo va recorriendo cada posicion de la instancia hasta\n",
    "# llegar al limite establecido, en casos particulares donde la ultima posicion este lejos del limite, se \n",
    "# almacena llamando al metodo save_file() despues de haberse cumplido la condicion del 3er if() anidado.\n",
    "def reduce_dimension(row, limit):\n",
    "    instance = row.split(' ')\n",
    "    data = instance[0]\n",
    "\n",
    "    for feature in range(len(instance)):\n",
    "        if (feature > 0): \n",
    "            pos_aux = instance[feature].split(':')\n",
    "            if (int(pos_aux[0]) <= limit):  \n",
    "                data += ' ' + str(instance[feature])\n",
    "                if (len(instance) - 1 == feature):\n",
    "                    save_file(data, limit)\n",
    "            else:\n",
    "                save_file(data, limit)\n",
    "                data = ''\n",
    "                print('Se rompe el ciclo')\n",
    "                break"
   ]
  },
  {
   "cell_type": "code",
   "execution_count": 144,
   "metadata": {},
   "outputs": [],
   "source": [
    "new_data = data.map(lambda row: reduce_dimension(row, 3000000)) # El 2o. argumento es el limite de caracteristicas."
   ]
  },
  {
   "cell_type": "code",
   "execution_count": 145,
   "metadata": {},
   "outputs": [
    {
     "data": {
      "text/plain": [
       "10"
      ]
     },
     "execution_count": 145,
     "metadata": {},
     "output_type": "execute_result"
    }
   ],
   "source": [
    "new_data.count()"
   ]
  },
  {
   "cell_type": "code",
   "execution_count": null,
   "metadata": {},
   "outputs": [],
   "source": [
    "# Celda de prueba:\n",
    "# instance = data.take(1)\n",
    "# limit_dimension = 80\n",
    "# reduce_dimension(instance, limit_dimension)"
   ]
  }
 ],
 "metadata": {
  "kernelspec": {
   "display_name": "Python 3.8.5 64-bit ('base': conda)",
   "language": "python",
   "name": "python38564bitbaseconda596aabc4316c46b392e16f5639a7998d"
  },
  "language_info": {
   "codemirror_mode": {
    "name": "ipython",
    "version": 3
   },
   "file_extension": ".py",
   "mimetype": "text/x-python",
   "name": "python",
   "nbconvert_exporter": "python",
   "pygments_lexer": "ipython3",
   "version": "3.8.5"
  }
 },
 "nbformat": 4,
 "nbformat_minor": 4
}
