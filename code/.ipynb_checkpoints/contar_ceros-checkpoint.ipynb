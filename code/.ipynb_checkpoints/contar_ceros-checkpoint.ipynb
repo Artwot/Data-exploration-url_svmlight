{
 "cells": [
  {
   "cell_type": "markdown",
   "id": "grateful-marriage",
   "metadata": {},
   "source": [
    "# Notebook para calcular ceros en un archivo por fila"
   ]
  },
  {
   "cell_type": "code",
   "execution_count": 2,
   "id": "vocational-tours",
   "metadata": {},
   "outputs": [],
   "source": [
    "import findspark\n",
    "findspark.init()\n",
    "import numpy as np\n",
    "from pyspark.sql import SparkSession\n",
    "from pyspark import SparkContext, SparkConf\n",
    "\n",
    "conf = (SparkConf()\n",
    "        .setAppName(\"Calcular Ceros\") \\\n",
    "        .set('spark.driver.cores', '3') \\\n",
    "        .set('spark.executor.cores', '3') \\\n",
    "        .set('spark.driver.memory', '2G') \\\n",
    "        .set('spark.sql.autoBroadcastJoinThreshold', '-1') \\\n",
    "        .set('spark.executor.memory', '3G'))\n",
    "sc = SparkContext(conf=conf)"
   ]
  },
  {
   "cell_type": "code",
   "execution_count": 3,
   "id": "alpine-narrative",
   "metadata": {},
   "outputs": [],
   "source": [
    "spark = SparkSession.builder.getOrCreate()"
   ]
  },
  {
   "cell_type": "markdown",
   "id": "applied-degree",
   "metadata": {},
   "source": [
    "### Variables"
   ]
  },
  {
   "cell_type": "code",
   "execution_count": 4,
   "id": "smart-tennis",
   "metadata": {},
   "outputs": [],
   "source": [
    "cont = 0\n",
    "array_cont_filas = np.array([])"
   ]
  },
  {
   "cell_type": "code",
   "execution_count": 48,
   "id": "wireless-blend",
   "metadata": {},
   "outputs": [],
   "source": [
    "data = spark.read.format(\"libsvm\")\\\n",
    "    .load(\"../data/url_svmlight/403995_x_instances_10.svm\")"
   ]
  },
  {
   "cell_type": "code",
   "execution_count": 49,
   "id": "posted-version",
   "metadata": {},
   "outputs": [
    {
     "name": "stdout",
     "output_type": "stream",
     "text": [
      "root\n",
      " |-- label: double (nullable = true)\n",
      " |-- features: vector (nullable = true)\n",
      "\n"
     ]
    }
   ],
   "source": [
    "data.printSchema()"
   ]
  },
  {
   "cell_type": "code",
   "execution_count": 52,
   "id": "5304d599-dd26-404b-baf5-bb0a4fa60ce0",
   "metadata": {},
   "outputs": [],
   "source": [
    "def llenar(cont):\n",
    "    global array_cont_filas\n",
    "    array_cont_filas = np.append(array_cont_filas, cont)\n",
    "    if(len(array_cont_filas) == 20):\n",
    "        sum = np.add.reduce(array_cont_filas)\n",
    "        print(\"Cantidad de ceros\", sum)"
   ]
  },
  {
   "cell_type": "code",
   "execution_count": 55,
   "id": "controversial-palestine",
   "metadata": {},
   "outputs": [],
   "source": [
    "def contar_ceros(fila):\n",
    "    cont = 0 \n",
    "    global array_cont_filas\n",
    "    for i in range(len(fila.features)):\n",
    "        if(fila.features[i] == 0.0):\n",
    "            cont += 1\n",
    "    print(cont)\n",
    "    llenar(cont)"
   ]
  },
  {
   "cell_type": "code",
   "execution_count": 54,
   "id": "comfortable-biotechnology",
   "metadata": {},
   "outputs": [],
   "source": [
    "data.foreach(contar_ceros)"
   ]
  },
  {
   "cell_type": "code",
   "execution_count": 70,
   "id": "twelve-daisy",
   "metadata": {},
   "outputs": [
    {
     "name": "stdout",
     "output_type": "stream",
     "text": [
      "[]\n"
     ]
    }
   ],
   "source": [
    "print(array_cont_filas)"
   ]
  },
  {
   "cell_type": "code",
   "execution_count": 13,
   "id": "seeing-export",
   "metadata": {},
   "outputs": [],
   "source": [
    "array = [0.0,\n",
    "1547045,\n",
    "0.0,\n",
    "1547044,\n",
    "1547042,\n",
    "0.0,\n",
    "1547053,\n",
    "1547040,\n",
    "1547050,\n",
    "1547054,\n",
    "1547044,\n",
    "1547002,\n",
    "0.0,\n",
    "1547036,\n",
    "1547050,\n",
    "1547050,\n",
    "0.0,\n",
    "1547011,\n",
    "1547040,\n",
    "0.0]"
   ]
  },
  {
   "cell_type": "code",
   "execution_count": 14,
   "id": "distant-retrieval",
   "metadata": {},
   "outputs": [
    {
     "ename": "AttributeError",
     "evalue": "'list' object has no attribute 'features'",
     "output_type": "error",
     "traceback": [
      "\u001b[0;31m---------------------------------------------------------------------------\u001b[0m\n\u001b[0;31mAttributeError\u001b[0m                            Traceback (most recent call last)",
      "File \u001b[0;34m/home/jsarabia/miniconda3/lib/python3.8/site-packages/IPython/core/interactiveshell.py\u001b[0m, in \u001b[0;32mrun_code\u001b[0m:\nLine \u001b[0;34m3437\u001b[0m:  exec(code_obj, \u001b[36mself\u001b[39;49;00m.user_global_ns, \u001b[36mself\u001b[39;49;00m.user_ns)\n",
      "In  \u001b[0;34m[14]\u001b[0m:\nLine \u001b[0;34m1\u001b[0m:     contar_ceros(array)\n",
      "In  \u001b[0;34m[10]\u001b[0m:\nLine \u001b[0;34m5\u001b[0m:     \u001b[34mfor\u001b[39;49;00m i \u001b[35min\u001b[39;49;00m \u001b[36mrange\u001b[39;49;00m(\u001b[36mlen\u001b[39;49;00m(fila.features)):\n",
      "\u001b[0;31mAttributeError\u001b[0m: 'list' object has no attribute 'features'\n\u001b[0;31m---------------------------------------------------------------------------\u001b[0m"
     ]
    }
   ],
   "source": [
    "contar_ceros(array)"
   ]
  },
  {
   "cell_type": "code",
   "execution_count": 12,
   "id": "commercial-distributor",
   "metadata": {},
   "outputs": [
    {
     "ename": "NameError",
     "evalue": "name 'array' is not defined",
     "output_type": "error",
     "traceback": [
      "\u001b[0;31m---------------------------------------------------------------------------\u001b[0m\n\u001b[0;31mNameError\u001b[0m                                 Traceback (most recent call last)",
      "File \u001b[0;34m/home/jsarabia/miniconda3/lib/python3.8/site-packages/IPython/core/interactiveshell.py\u001b[0m, in \u001b[0;32mrun_code\u001b[0m:\nLine \u001b[0;34m3437\u001b[0m:  exec(code_obj, \u001b[36mself\u001b[39;49;00m.user_global_ns, \u001b[36mself\u001b[39;49;00m.user_ns)\n",
      "In  \u001b[0;34m[12]\u001b[0m:\nLine \u001b[0;34m2\u001b[0m:     \u001b[34mfor\u001b[39;49;00m i \u001b[35min\u001b[39;49;00m \u001b[36mrange\u001b[39;49;00m(\u001b[36mlen\u001b[39;49;00m(array) - \u001b[34m1\u001b[39;49;00m):\n",
      "\u001b[0;31mNameError\u001b[0m: name 'array' is not defined\n\u001b[0;31m---------------------------------------------------------------------------\u001b[0m"
     ]
    }
   ],
   "source": [
    "suma = 0 \n",
    "for i in range(len(array) - 1):\n",
    "    suma += array[i] + array[i + 1]\n",
    "print(suma)"
   ]
  },
  {
   "cell_type": "code",
   "execution_count": 20,
   "id": "6e3aa401-3de1-49a8-ae18-2fac21374159",
   "metadata": {},
   "outputs": [],
   "source": [
    "sc.stop()"
   ]
  },
  {
   "cell_type": "code",
   "execution_count": null,
   "id": "34c46b8f-d24d-45fd-b712-72051ae0e3f0",
   "metadata": {},
   "outputs": [],
   "source": []
  }
 ],
 "metadata": {
  "kernelspec": {
   "display_name": "Python 3.8 (XPython)",
   "language": "python",
   "name": "xpython"
  },
  "language_info": {
   "file_extension": ".py",
   "mimetype": "text/x-python",
   "name": "python",
   "version": "3.8.8"
  },
  "metadata": {
   "interpreter": {
    "hash": "4b885024a669b25ee4a71b7d0638ae4cd28c0f16f4c7c66f708405d8a6800548"
   }
  },
  "toc-autonumbering": true,
  "toc-showcode": false,
  "toc-showmarkdowntxt": false
 },
 "nbformat": 4,
 "nbformat_minor": 5
}
