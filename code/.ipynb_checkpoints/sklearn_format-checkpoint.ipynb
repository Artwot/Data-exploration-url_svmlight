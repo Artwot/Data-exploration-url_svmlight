{
 "cells": [
  {
   "cell_type": "markdown",
   "source": [
    "## Notebook para convertir los archivos .svm al formato .csv para la librería Sklearn"
   ],
   "metadata": {
    "collapsed": false,
    "pycharm": {
     "name": "#%% md\n"
    }
   }
  },
  {
   "cell_type": "code",
   "execution_count": 1,
   "metadata": {
    "collapsed": true
   },
   "outputs": [],
   "source": [
    "# Importar las librerías necesarias\n",
    "from pyspark.sql import SparkSession\n",
    "from pyspark import SparkConf\n",
    "from pyspark import SparkContext\n",
    "from pyspark.sql import SQLContext\n",
    "import random"
   ]
  },
  {
   "cell_type": "code",
   "execution_count": 2,
   "outputs": [],
   "source": [
    "# Build the SparkSession\n",
    "#spark = SparkSession.builder \\\n",
    "#    .master(\"local[6]\") \\\n",
    "#    .appName(\"Data exploration URL - KNN\") \\\n",
    "#    .config(\"spark.executor.memory\", \"4gb\") \\\n",
    "#    .getOrCreate()\n",
    "\n",
    "conf = SparkConf()\n",
    "conf.set(\"spark.executor.memory\", \"4gb\")\n",
    "conf.set(\"spark.driver.memory\",\"4g\")\n",
    "conf.set(\"spark.executor.cores\",\"6\")\n",
    "conf.set(\"spark.python.worker.memory\",\"4g\")\n",
    "conf.set('spark.master', 'local[6]')\n",
    "\n",
    "#sc = spark.sparkContext\n",
    "sc = SparkContext(conf=conf)\n",
    "sqlContext = SQLContext(sc)"
   ],
   "metadata": {
    "collapsed": false,
    "pycharm": {
     "name": "#%%\n"
    }
   }
  },
  {
   "cell_type": "code",
   "execution_count": 3,
   "outputs": [
    {
     "output_type": "execute_result",
     "data": {
      "text/plain": [
       "[('spark.executor.memory', '4gb'),\n",
       " ('spark.app.id', 'local-1616610560582'),\n",
       " ('spark.driver.memory', '4g'),\n",
       " ('spark.executor.id', 'driver'),\n",
       " ('spark.master', 'local[6]'),\n",
       " ('spark.app.name', 'pyspark-shell'),\n",
       " ('spark.executor.cores', '6'),\n",
       " ('spark.driver.port', '35057'),\n",
       " ('spark.rdd.compress', 'True'),\n",
       " ('spark.app.startTime', '1616610559565'),\n",
       " ('spark.python.worker.memory', '4g'),\n",
       " ('spark.serializer.objectStreamReset', '100'),\n",
       " ('spark.submit.pyFiles', ''),\n",
       " ('spark.submit.deployMode', 'client'),\n",
       " ('spark.ui.showConsoleProgress', 'true'),\n",
       " ('spark.driver.host', 'fedora')]"
      ]
     },
     "metadata": {},
     "execution_count": 3
    }
   ],
   "source": [
    "sc._conf.getAll()"
   ],
   "metadata": {
    "collapsed": false,
    "pycharm": {
     "name": "#%%\n"
    }
   }
  },
  {
   "cell_type": "code",
   "execution_count": 4,
   "outputs": [],
   "source": [
    "# Load training data\n",
    "data = sqlContext.read.format(\"libsvm\")\\\n",
    "    .load(\"../data/url_svmlight/Dimension_1000_x_300000.svm\")\n",
    "# Split the data into train and test\n",
    "# seed = random.randrange(500, 1300, 2)\n",
    "# splits = data.randomSplit([0.7, 0.3], 1234)\n",
    "\n",
    "# train = splits[0]\n",
    "# test = splits[1]"
   ],
   "metadata": {
    "collapsed": false,
    "pycharm": {
     "name": "#%%\n"
    }
   }
  },
  {
   "cell_type": "code",
   "execution_count": 5,
   "outputs": [],
   "source": [
    "# Metodo que guarda cada renglon en un archivo .svm\n",
    "def save_file(data):\n",
    "    file = open('../data/sklearn_format/url_1000_x_300000.csv', 'a')\n",
    "    file.write(data)\n",
    "    file.close()"
   ],
   "metadata": {
    "collapsed": false,
    "pycharm": {
     "name": "#%%\n"
    }
   }
  },
  {
   "cell_type": "code",
   "execution_count": 6,
   "outputs": [],
   "source": [
    "def change_format(instance):\n",
    "    concat_instance = ''\n",
    "    for column in range(len(instance[1])):\n",
    "        concat_instance += str(instance.features[column]) + ', '\n",
    "        # print(instance.features[column])\n",
    "    concat_instance += str(instance.label) + '\\n'\n",
    "    save_file(concat_instance)"
   ],
   "metadata": {
    "collapsed": false,
    "pycharm": {
     "name": "#%%\n"
    }
   }
  },
  {
   "cell_type": "code",
   "execution_count": 7,
   "outputs": [],
   "source": [
    "data.foreach(change_format)"
   ],
   "metadata": {
    "collapsed": false,
    "pycharm": {
     "name": "#%%\n"
    }
   }
  },
  {
   "cell_type": "code",
   "execution_count": 19,
   "outputs": [
    {
     "data": {
      "text/plain": "'/home/jsarabia/Documents/IA/Data-exploration-url_svmlight/code'"
     },
     "execution_count": 19,
     "metadata": {},
     "output_type": "execute_result"
    }
   ],
   "source": [],
   "metadata": {
    "collapsed": false,
    "pycharm": {
     "name": "#%%\n"
    }
   }
  }
 ],
 "metadata": {
  "kernelspec": {
   "display_name": "Python 3.8.5 64-bit ('base': conda)",
   "language": "python",
   "name": "python38564bitbaseconda596aabc4316c46b392e16f5639a7998d"
  },
  "language_info": {
   "codemirror_mode": {
    "name": "ipython",
    "version": 2
   },
   "file_extension": ".py",
   "mimetype": "text/x-python",
   "name": "python",
   "nbconvert_exporter": "python",
   "pygments_lexer": "ipython2",
   "version": "3.8.5-final"
  }
 },
 "nbformat": 4,
 "nbformat_minor": 0
}