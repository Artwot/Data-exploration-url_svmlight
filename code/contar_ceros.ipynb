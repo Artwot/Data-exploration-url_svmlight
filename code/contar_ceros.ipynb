{
 "cells": [
  {
   "cell_type": "markdown",
   "id": "grateful-marriage",
   "metadata": {},
   "source": [
    "# Notebook para calcular ceros en un archivo por fila"
   ]
  },
  {
   "cell_type": "code",
   "execution_count": 64,
   "id": "vocational-tours",
   "metadata": {},
   "outputs": [],
   "source": [
    "import findspark\n",
    "findspark.init()\n",
    "import numpy as np\n",
    "from pyspark.sql import SparkSession\n",
    "from pyspark import SparkContext, SparkConf\n",
    "\n",
    "conf = (SparkConf()\n",
    "        .setAppName(\"Calcular Ceros\") \\\n",
    "        .set('spark.driver.cores', '6') \\\n",
    "        .set('spark.executor.cores', '6') \\\n",
    "        .set('spark.driver.memory', '4G') \\\n",
    "        .set('spark.sql.autoBroadcastJoinThreshold', '-1') \\\n",
    "        .set('spark.executor.memory', '5G'))\n",
    "sc = SparkContext(conf=conf)"
   ]
  },
  {
   "cell_type": "code",
   "execution_count": 65,
   "id": "alpine-narrative",
   "metadata": {},
   "outputs": [],
   "source": [
    "spark = SparkSession.builder.getOrCreate()"
   ]
  },
  {
   "cell_type": "markdown",
   "id": "applied-degree",
   "metadata": {},
   "source": [
    "### Variables"
   ]
  },
  {
   "cell_type": "code",
   "execution_count": 66,
   "id": "smart-tennis",
   "metadata": {},
   "outputs": [],
   "source": [
    "cont = 0\n",
    "array_cont_filas = np.array([])"
   ]
  },
  {
   "cell_type": "code",
   "execution_count": 71,
   "id": "5304d599-dd26-404b-baf5-bb0a4fa60ce0",
   "metadata": {},
   "outputs": [],
   "source": [
    "def llenar(cont):\n",
    "    global array_cont_filas\n",
    "    array_cont_filas = np.append(array_cont_filas, cont)\n",
    "    if(len(array_cont_filas) == 20):\n",
    "        sum = np.add.reduce(array_cont_filas)\n",
    "        print(\"Cantidad de ceros === === === >\", sum)"
   ]
  },
  {
   "cell_type": "code",
   "execution_count": 72,
   "id": "controversial-palestine",
   "metadata": {},
   "outputs": [],
   "source": [
    "def contar_ceros(fila):\n",
    "    cont = 0 \n",
    "    global array_cont_filas\n",
    "    for i in range(len(fila.features)):\n",
    "        if(fila.features[i] == 0.0):\n",
    "            cont += 1\n",
    "    llenar(cont)"
   ]
  },
  {
   "cell_type": "code",
   "execution_count": 117,
   "id": "wireless-blend",
   "metadata": {},
   "outputs": [],
   "source": [
    "data = spark.read.format(\"libsvm\")\\\n",
    "    .load(\"../data/url_svmlight/3231961_x_instances_100.svm\")"
   ]
  },
  {
   "cell_type": "code",
   "execution_count": 118,
   "id": "posted-version",
   "metadata": {},
   "outputs": [
    {
     "name": "stdout",
     "output_type": "stream",
     "text": [
      "root\n",
      " |-- label: double (nullable = true)\n",
      " |-- features: vector (nullable = true)\n",
      "\n"
     ]
    }
   ],
   "source": [
    "data.printSchema()"
   ]
  },
  {
   "cell_type": "code",
   "execution_count": 119,
   "id": "comfortable-biotechnology",
   "metadata": {},
   "outputs": [],
   "source": [
    "data.foreach(contar_ceros)"
   ]
  },
  {
   "cell_type": "code",
   "execution_count": 62,
   "id": "6e3aa401-3de1-49a8-ae18-2fac21374159",
   "metadata": {},
   "outputs": [],
   "source": [
    "sc.stop()"
   ]
  },
  {
   "cell_type": "code",
   "execution_count": null,
   "id": "34c46b8f-d24d-45fd-b712-72051ae0e3f0",
   "metadata": {},
   "outputs": [],
   "source": []
  }
 ],
 "metadata": {
  "kernelspec": {
   "display_name": "Python 3.8 (XPython)",
   "language": "python",
   "name": "xpython"
  },
  "language_info": {
   "file_extension": ".py",
   "mimetype": "text/x-python",
   "name": "python",
   "version": "3.8.8"
  },
  "metadata": {
   "interpreter": {
    "hash": "4b885024a669b25ee4a71b7d0638ae4cd28c0f16f4c7c66f708405d8a6800548"
   }
  },
  "toc-autonumbering": true,
  "toc-showcode": false,
  "toc-showmarkdowntxt": false
 },
 "nbformat": 4,
 "nbformat_minor": 5
}
