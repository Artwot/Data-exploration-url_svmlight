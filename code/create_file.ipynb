{
 "cells": [
  {
   "cell_type": "markdown",
   "id": "united-bride",
   "metadata": {},
   "source": [
    "# Crear archivo con N instancias por cada clase."
   ]
  },
  {
   "cell_type": "code",
   "execution_count": 1,
   "id": "intensive-dinner",
   "metadata": {},
   "outputs": [],
   "source": [
    "# Import SparkSession\n",
    "import findspark\n",
    "findspark.init()\n",
    "\n",
    "from pyspark.ml.evaluation import MulticlassClassificationEvaluator\n",
    "from pyspark.ml.classification import MultilayerPerceptronClassifier\n",
    "from pyspark.sql import SparkSession\n",
    "from pyspark import SparkContext, SparkConf\n",
    "import random"
   ]
  },
  {
   "cell_type": "code",
   "execution_count": 2,
   "id": "blessed-athens",
   "metadata": {},
   "outputs": [],
   "source": [
    "# Build the SparkSession\n",
    "conf = (SparkConf()\n",
    "        .setAppName(\"Data exploration URL - Instancias balanceadas\") \\\n",
    "        .set('spark.driver.cores', '6') \\\n",
    "        .set('spark.executor.cores', '6') \\\n",
    "        .set('spark.driver.memory', '6G') \\\n",
    "        .set('spark.master', 'local[6]') \\\n",
    "        .set('spark.executor.memory', '6G'))\n",
    "sc = SparkContext(conf=conf)\n",
    "\n",
    "spark = SparkSession.builder.getOrCreate()"
   ]
  },
  {
   "cell_type": "code",
   "execution_count": 3,
   "id": "fundamental-abraham",
   "metadata": {},
   "outputs": [
    {
     "data": {
      "text/plain": [
       "[('spark.executor.id', 'driver'),\n",
       " ('spark.driver.memory', '6G'),\n",
       " ('spark.master', 'local[6]'),\n",
       " ('spark.driver.cores', '6'),\n",
       " ('spark.executor.memory', '6G'),\n",
       " ('spark.executor.cores', '6'),\n",
       " ('spark.rdd.compress', 'True'),\n",
       " ('spark.app.startTime', '1619116598137'),\n",
       " ('spark.app.id', 'local-1619116599251'),\n",
       " ('spark.serializer.objectStreamReset', '100'),\n",
       " ('spark.driver.port', '41437'),\n",
       " ('spark.submit.pyFiles', ''),\n",
       " ('spark.submit.deployMode', 'client'),\n",
       " ('spark.ui.showConsoleProgress', 'true'),\n",
       " ('spark.app.name', 'Data exploration URL - Instancias balanceadas'),\n",
       " ('spark.driver.host', 'fedora')]"
      ]
     },
     "execution_count": 3,
     "metadata": {},
     "output_type": "execute_result"
    }
   ],
   "source": [
    "sc._conf.getAll()"
   ]
  },
  {
   "cell_type": "code",
   "execution_count": 4,
   "id": "suitable-filing",
   "metadata": {},
   "outputs": [
    {
     "data": {
      "text/html": [
       "\n",
       "        <div>\n",
       "            <p><b>SparkContext</b></p>\n",
       "\n",
       "            <p><a href=\"http://fedora:4041\">Spark UI</a></p>\n",
       "\n",
       "            <dl>\n",
       "              <dt>Version</dt>\n",
       "                <dd><code>v3.1.1</code></dd>\n",
       "              <dt>Master</dt>\n",
       "                <dd><code>local[6]</code></dd>\n",
       "              <dt>AppName</dt>\n",
       "                <dd><code>Data exploration URL - Instancias balanceadas</code></dd>\n",
       "            </dl>\n",
       "        </div>\n",
       "        "
      ],
      "text/plain": [
       "<SparkContext master=local[6] appName=Data exploration URL - Instancias balanceadas>"
      ]
     },
     "execution_count": 4,
     "metadata": {},
     "output_type": "execute_result"
    }
   ],
   "source": [
    "sc"
   ]
  },
  {
   "cell_type": "code",
   "execution_count": 92,
   "id": "greek-vision",
   "metadata": {},
   "outputs": [],
   "source": [
    "data = sc.textFile(\"/home/jsarabia/Documents/IA/DayGeneral.svm\")"
   ]
  },
  {
   "cell_type": "code",
   "execution_count": 93,
   "id": "ordinary-oxford",
   "metadata": {},
   "outputs": [
    {
     "data": {
      "text/plain": [
       "['0 4:0.0788382 5:0.124138 6:0.117647 11:0.428571 16:0.1 17:0.749633 18:0.843029 19:0.197344 21:0.142856 22:0.142857 23:0.142857 28:1 33:0.0555556 41:0.1 54:1 56:1 64:1 70:1 72:1 74:1 76:1 82:1 84:1 86:1 88:1 90:1 92:1 94:1 96:1 102:1 104:1 106:1 108:1 110:1 112:1 155:1 190:1 204:1 359:1 360:1 361:1 1306:1 1309:1 1310:1 1311:1 2408:1 2921:1 2923:1 7000:1 7001:1 7002:1 7005:1 7006:1 7007:1 7009:1 7010:1 7759:1 7762:1 155153:1 155154:1 155155:1 155156:1 155157:1 155158:1 155159:1 155160:1 155161:1 155163:1 155164:1 155165:1 155166:1 155168:1 155169:1 155170:1 155172:1 155173:1 155174:1 155175:1 155176:1 155177:1 155178:1 155179:1 155180:1 155181:1 155182:1 155183:1 155194:1 155195:1 155196:1 155197:1 155198:1 155199:1 155200:1 155201:1 155202:1 155203:1 155204:1 155205:1 155206:1 155207:1 155208:1 155209:1 155210:1 155211:1 155212:1 155213:1 945789:1 1988571:1 2139257:1 2987739:1 3224681:1']"
      ]
     },
     "execution_count": 93,
     "metadata": {},
     "output_type": "execute_result"
    }
   ],
   "source": [
    "data.take(1)"
   ]
  },
  {
   "cell_type": "code",
   "execution_count": 114,
   "id": "twenty-bullet",
   "metadata": {},
   "outputs": [],
   "source": [
    "# Se crean los contadores para el no. de instancias:\n",
    "count_cl1 = 1\n",
    "count_cl2 = 1\n",
    "# Variable que asigna un mismo número de instancias a cada clase. \n",
    "num_instances = 10"
   ]
  },
  {
   "cell_type": "code",
   "execution_count": 115,
   "id": "superb-reality",
   "metadata": {},
   "outputs": [],
   "source": [
    "# Se crea un archivo con N cantidad de instancias para dos clases\n",
    "def create_file(instance):\n",
    "    global count_cl1\n",
    "    global count_cl2\n",
    "    global num_instances\n",
    "    arch = open('/home/jsarabia/Documents/IA/datasets/Data-exploration/3231961_x_instances_' + str(num_instances) + '.svm', 'a')\n",
    "\n",
    "    if (instance[0] == '0'):\n",
    "        if (count_cl1 <= num_instances):\n",
    "            # print('=== === === === === === ===')\n",
    "            print('Contador C1:' + str(count_cl1))\n",
    "            # print(instance[0] == '0')\n",
    "            arch.write('\\n' + instance)\n",
    "            arch.close()\n",
    "            count_cl1 += 1\n",
    "    if (instance[0] == '1'):\n",
    "        if (count_cl2 <= num_instances):\n",
    "            # print('=== === === === === === ===')\n",
    "            print('Contador C2:' + str(count_cl2))\n",
    "            # print(instance[0] == '1')\n",
    "            arch.write('\\n' + instance)\n",
    "            arch.close()\n",
    "            count_cl2 += 1 "
   ]
  },
  {
   "cell_type": "code",
   "execution_count": 116,
   "id": "romantic-foster",
   "metadata": {},
   "outputs": [],
   "source": [
    "rdd_prueba = data.map(lambda instance: create_file(instance))"
   ]
  },
  {
   "cell_type": "code",
   "execution_count": 117,
   "id": "convertible-interaction",
   "metadata": {},
   "outputs": [
    {
     "name": "stdout",
     "output_type": "stream",
     "text": [
      "Archivo creado.\n"
     ]
    }
   ],
   "source": [
    "rdd_prueba.take(1000)\n",
    "print(\"Archivo creado.\")"
   ]
  },
  {
   "cell_type": "code",
   "execution_count": 118,
   "id": "mexican-velvet",
   "metadata": {},
   "outputs": [],
   "source": [
    "sc.stop()"
   ]
  }
 ],
 "metadata": {
  "kernelspec": {
   "display_name": "Python 3.8.5 64-bit ('base': conda)",
   "language": "python",
   "name": "python38564bitbaseconda596aabc4316c46b392e16f5639a7998d"
  },
  "language_info": {
   "codemirror_mode": {
    "name": "ipython",
    "version": 3
   },
   "file_extension": ".py",
   "mimetype": "text/x-python",
   "name": "python",
   "nbconvert_exporter": "python",
   "pygments_lexer": "ipython3",
   "version": "3.8.5"
  }
 },
 "nbformat": 4,
 "nbformat_minor": 5
}
