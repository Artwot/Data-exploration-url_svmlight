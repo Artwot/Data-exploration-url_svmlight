{
 "cells": [
  {
   "cell_type": "code",
   "execution_count": 1,
   "metadata": {},
   "outputs": [],
   "source": [
    "import findspark\n",
    "findspark.init()\n",
    "\n",
    "from pyspark.sql import SparkSession\n",
    "import random\n",
    "import math\n",
    "import sys\n",
    "import numpy as np"
   ]
  },
  {
   "cell_type": "code",
   "execution_count": 2,
   "metadata": {},
   "outputs": [],
   "source": [
    "# Build the SparkSession\n",
    "spark = SparkSession.builder \\\n",
    "    .master(\"local[6]\") \\\n",
    "    .appName(\"Data exploration URL - KNN\") \\\n",
    "    .config(\"spark.executor.memory\", \"4gb\") \\\n",
    "    .getOrCreate()\n",
    "\n",
    "sc = spark.sparkContext"
   ]
  },
  {
   "cell_type": "code",
   "execution_count": 3,
   "metadata": {},
   "outputs": [
    {
     "data": {
      "text/plain": "[('spark.executor.memory', '4gb'),\n ('spark.app.name', 'Data exploration URL - KNN'),\n ('spark.driver.port', '33701'),\n ('spark.driver.memory', '4g'),\n ('spark.rdd.compress', 'True'),\n ('spark.app.id', 'local-1615669488594'),\n ('spark.serializer.objectStreamReset', '100'),\n ('spark.submit.pyFiles', ''),\n ('spark.executor.id', 'driver'),\n ('spark.submit.deployMode', 'client'),\n ('spark.ui.showConsoleProgress', 'true'),\n ('spark.master', 'local[6]'),\n ('spark.driver.host', 'fedora')]"
     },
     "execution_count": 3,
     "metadata": {},
     "output_type": "execute_result"
    }
   ],
   "source": [
    "sc._conf.getAll()"
   ]
  },
  {
   "cell_type": "code",
   "execution_count": 4,
   "metadata": {},
   "outputs": [],
   "source": [
    "# Load training data\n",
    "data = spark.read.format(\"libsvm\")\\\n",
    "    .load(\"../data/url_svmlight/Dimension_100_x_500000.svm\")\n",
    "# Split the data into train and test\n",
    "seed = random.randrange(500, 1300, 2)\n",
    "splits = data.randomSplit([0.7, 0.3], 1234)\n",
    "\n",
    "train = splits[0]\n",
    "test = splits[1]"
   ]
  },
  {
   "cell_type": "code",
   "execution_count": 5,
   "metadata": {},
   "outputs": [],
   "source": [
    "# Se asignan los RDD para el posterior procesamiento\n",
    "rdd_train = train.rdd\n",
    "rdd_test = test.rdd"
   ]
  },
  {
   "cell_type": "code",
   "execution_count": 6,
   "metadata": {},
   "outputs": [
    {
     "ename": "KeyboardInterrupt",
     "evalue": "",
     "output_type": "error",
     "traceback": [
      "\u001B[0;31m---------------------------------------------------------------------------\u001B[0m",
      "\u001B[0;31mKeyboardInterrupt\u001B[0m                         Traceback (most recent call last)",
      "\u001B[0;32m<ipython-input-6-e6477b05dbc5>\u001B[0m in \u001B[0;36m<module>\u001B[0;34m\u001B[0m\n\u001B[1;32m      1\u001B[0m \u001B[0;31m# Se utilizan dos array de numpy para alamacenar las instancias del set de entrenamiento y procesar con un RDD y el segundo array almacena las etiquetas.\u001B[0m\u001B[0;34m\u001B[0m\u001B[0;34m\u001B[0m\u001B[0;34m\u001B[0m\u001B[0m\n\u001B[0;32m----> 2\u001B[0;31m \u001B[0mtrain_array\u001B[0m \u001B[0;34m=\u001B[0m \u001B[0mnp\u001B[0m\u001B[0;34m.\u001B[0m\u001B[0marray\u001B[0m\u001B[0;34m(\u001B[0m\u001B[0mtrain\u001B[0m\u001B[0;34m.\u001B[0m\u001B[0mselect\u001B[0m\u001B[0;34m(\u001B[0m\u001B[0;34m'features'\u001B[0m\u001B[0;34m)\u001B[0m\u001B[0;34m.\u001B[0m\u001B[0mcollect\u001B[0m\u001B[0;34m(\u001B[0m\u001B[0;34m)\u001B[0m\u001B[0;34m,\u001B[0m \u001B[0mdtype\u001B[0m\u001B[0;34m=\u001B[0m\u001B[0mfloat\u001B[0m\u001B[0;34m)\u001B[0m\u001B[0;34m\u001B[0m\u001B[0;34m\u001B[0m\u001B[0m\n\u001B[0m\u001B[1;32m      3\u001B[0m \u001B[0mtrain_array_labels\u001B[0m \u001B[0;34m=\u001B[0m \u001B[0mnp\u001B[0m\u001B[0;34m.\u001B[0m\u001B[0marray\u001B[0m\u001B[0;34m(\u001B[0m\u001B[0mtrain\u001B[0m\u001B[0;34m.\u001B[0m\u001B[0mselect\u001B[0m\u001B[0;34m(\u001B[0m\u001B[0;34m'label'\u001B[0m\u001B[0;34m)\u001B[0m\u001B[0;34m.\u001B[0m\u001B[0mcollect\u001B[0m\u001B[0;34m(\u001B[0m\u001B[0;34m)\u001B[0m\u001B[0;34m,\u001B[0m \u001B[0mdtype\u001B[0m\u001B[0;34m=\u001B[0m\u001B[0mfloat\u001B[0m\u001B[0;34m)\u001B[0m\u001B[0;34m\u001B[0m\u001B[0;34m\u001B[0m\u001B[0m\n\u001B[1;32m      4\u001B[0m \u001B[0;34m\u001B[0m\u001B[0m\n",
      "\u001B[0;32m/opt/spark/python/pyspark/ml/linalg/__init__.py\u001B[0m in \u001B[0;36m__getitem__\u001B[0;34m(self, index)\u001B[0m\n\u001B[1;32m    728\u001B[0m             \u001B[0;32mreturn\u001B[0m \u001B[0;36m0.\u001B[0m\u001B[0;34m\u001B[0m\u001B[0;34m\u001B[0m\u001B[0m\n\u001B[1;32m    729\u001B[0m \u001B[0;34m\u001B[0m\u001B[0m\n\u001B[0;32m--> 730\u001B[0;31m         \u001B[0minsert_index\u001B[0m \u001B[0;34m=\u001B[0m \u001B[0mnp\u001B[0m\u001B[0;34m.\u001B[0m\u001B[0msearchsorted\u001B[0m\u001B[0;34m(\u001B[0m\u001B[0minds\u001B[0m\u001B[0;34m,\u001B[0m \u001B[0mindex\u001B[0m\u001B[0;34m)\u001B[0m\u001B[0;34m\u001B[0m\u001B[0;34m\u001B[0m\u001B[0m\n\u001B[0m\u001B[1;32m    731\u001B[0m         \u001B[0mrow_ind\u001B[0m \u001B[0;34m=\u001B[0m \u001B[0minds\u001B[0m\u001B[0;34m[\u001B[0m\u001B[0minsert_index\u001B[0m\u001B[0;34m]\u001B[0m\u001B[0;34m\u001B[0m\u001B[0;34m\u001B[0m\u001B[0m\n\u001B[1;32m    732\u001B[0m         \u001B[0;32mif\u001B[0m \u001B[0mrow_ind\u001B[0m \u001B[0;34m==\u001B[0m \u001B[0mindex\u001B[0m\u001B[0;34m:\u001B[0m\u001B[0;34m\u001B[0m\u001B[0;34m\u001B[0m\u001B[0m\n",
      "\u001B[0;32m<__array_function__ internals>\u001B[0m in \u001B[0;36msearchsorted\u001B[0;34m(*args, **kwargs)\u001B[0m\n",
      "\u001B[0;32m~/miniconda3/lib/python3.8/site-packages/numpy/core/fromnumeric.py\u001B[0m in \u001B[0;36msearchsorted\u001B[0;34m(a, v, side, sorter)\u001B[0m\n\u001B[1;32m   1341\u001B[0m \u001B[0;34m\u001B[0m\u001B[0m\n\u001B[1;32m   1342\u001B[0m     \"\"\"\n\u001B[0;32m-> 1343\u001B[0;31m     \u001B[0;32mreturn\u001B[0m \u001B[0m_wrapfunc\u001B[0m\u001B[0;34m(\u001B[0m\u001B[0ma\u001B[0m\u001B[0;34m,\u001B[0m \u001B[0;34m'searchsorted'\u001B[0m\u001B[0;34m,\u001B[0m \u001B[0mv\u001B[0m\u001B[0;34m,\u001B[0m \u001B[0mside\u001B[0m\u001B[0;34m=\u001B[0m\u001B[0mside\u001B[0m\u001B[0;34m,\u001B[0m \u001B[0msorter\u001B[0m\u001B[0;34m=\u001B[0m\u001B[0msorter\u001B[0m\u001B[0;34m)\u001B[0m\u001B[0;34m\u001B[0m\u001B[0;34m\u001B[0m\u001B[0m\n\u001B[0m\u001B[1;32m   1344\u001B[0m \u001B[0;34m\u001B[0m\u001B[0m\n\u001B[1;32m   1345\u001B[0m \u001B[0;34m\u001B[0m\u001B[0m\n",
      "\u001B[0;32m~/miniconda3/lib/python3.8/site-packages/numpy/core/fromnumeric.py\u001B[0m in \u001B[0;36m_wrapfunc\u001B[0;34m(obj, method, *args, **kwds)\u001B[0m\n\u001B[1;32m     56\u001B[0m \u001B[0;34m\u001B[0m\u001B[0m\n\u001B[1;32m     57\u001B[0m     \u001B[0;32mtry\u001B[0m\u001B[0;34m:\u001B[0m\u001B[0;34m\u001B[0m\u001B[0;34m\u001B[0m\u001B[0m\n\u001B[0;32m---> 58\u001B[0;31m         \u001B[0;32mreturn\u001B[0m \u001B[0mbound\u001B[0m\u001B[0;34m(\u001B[0m\u001B[0;34m*\u001B[0m\u001B[0margs\u001B[0m\u001B[0;34m,\u001B[0m \u001B[0;34m**\u001B[0m\u001B[0mkwds\u001B[0m\u001B[0;34m)\u001B[0m\u001B[0;34m\u001B[0m\u001B[0;34m\u001B[0m\u001B[0m\n\u001B[0m\u001B[1;32m     59\u001B[0m     \u001B[0;32mexcept\u001B[0m \u001B[0mTypeError\u001B[0m\u001B[0;34m:\u001B[0m\u001B[0;34m\u001B[0m\u001B[0;34m\u001B[0m\u001B[0m\n\u001B[1;32m     60\u001B[0m         \u001B[0;31m# A TypeError occurs if the object does have such a method in its\u001B[0m\u001B[0;34m\u001B[0m\u001B[0;34m\u001B[0m\u001B[0;34m\u001B[0m\u001B[0m\n",
      "\u001B[0;31mKeyboardInterrupt\u001B[0m: "
     ]
    }
   ],
   "source": [
    "# Se utilizan dos array de numpy para alamacenar las instancias del set de entrenamiento y procesar con un RDD y el segundo array almacena las etiquetas. \n",
    "train_array = np.array(train.select('features').collect(), dtype=float)\n",
    "train_array_labels = np.array(train.select('label').collect(), dtype=float)"
   ]
  },
  {
   "cell_type": "code",
   "execution_count": 322,
   "metadata": {},
   "outputs": [],
   "source": [
    "# Etiquteas de las instancias del conjunto de test. \n",
    "test_array_labels = np.array(test.select('label').collect(), dtype=float)"
   ]
  },
  {
   "cell_type": "code",
   "execution_count": 323,
   "metadata": {},
   "outputs": [
    {
     "output_type": "stream",
     "name": "stdout",
     "text": [
      "RDD de entrenamiento: 131\nRDD de test: 69\n"
     ]
    }
   ],
   "source": [
    "print('RDD de entrenamiento: ' + str(rdd_train.count()))\n",
    "print('RDD de test: ' + str(rdd_test.count()))"
   ]
  },
  {
   "cell_type": "code",
   "execution_count": 325,
   "metadata": {},
   "outputs": [],
   "source": [
    "# Metodo que guarda cada renglon en un archivo .svm\n",
    "def save_file(data):\n",
    "    file = open('../data/url_svmlight/Distancia_euclideana_100_x_500000.svm', 'a')\n",
    "    file.write(data)\n",
    "    file.close()"
   ]
  },
  {
   "cell_type": "code",
   "execution_count": 326,
   "metadata": {},
   "outputs": [],
   "source": [
    "\"\"\"\n",
    "[summary:\n",
    "    Método para calcular la distancia euclídea entre cada una de las \n",
    "    columnas del conjunto de test respecto a las columnas del conjunto\n",
    "    de entrenamiento.\n",
    "]\n",
    "\n",
    "Args:\n",
    "    instance ([pyspark.sql.types.Row]): [\n",
    "        Recibe cada una de las instancias que hay en el dataset\n",
    "    ]\n",
    "\"\"\"\n",
    "def euclidean_distance(instance):\n",
    "    distance = 0\n",
    "    instance_distance = ''\n",
    "    for row in range(len(train_array)):\n",
    "        instance_distance += str(train_array_labels[row][0]) + ' '\n",
    "        for column in range(len(instance[1])):\n",
    "            distance = pow(train_array[row][0][column] - instance.features[column], 2)\n",
    "            distance = math.sqrt(distance)\n",
    "            # instance_distance += str(column + 1) +':' + str(distance) + ' ' # -> Si quisiera poner los indices de cada caracteristica.\n",
    "            instance_distance += str(distance) + ' '\n",
    "        instance_distance += '\\n'\n",
    "    save_file(instance_distance)"
   ]
  },
  {
   "cell_type": "code",
   "execution_count": null,
   "metadata": {},
   "outputs": [],
   "source": [
    "# Ejecuta el método que calcula la distancia euclídea entre los puntos euclidean_distance()\n",
    "test.foreach(euclidean_distance)"
   ]
  },
  {
   "cell_type": "code",
   "execution_count": 290,
   "metadata": {},
   "outputs": [],
   "source": [
    "rdd_samp1 = sc.textFile('../data/url_svmlight/arch_prb.svm')\n",
    "rdd_samp2 = sc.textFile('../data/url_svmlight/arch_prb1.svm')\n",
    "rdd_samp3 = sc.textFile('../data/url_svmlight/arch_prb2.svm')"
   ]
  },
  {
   "cell_type": "code",
   "execution_count": 299,
   "metadata": {},
   "outputs": [],
   "source": [
    "five_nearest1 = rdd_samp1.takeOrdered(5)\n",
    "five_nearest2 = rdd_samp2.takeOrdered(5)\n",
    "five_nearest3 = rdd_samp3.takeOrdered(5)"
   ]
  },
  {
   "cell_type": "code",
   "execution_count": 311,
   "metadata": {},
   "outputs": [],
   "source": [
    "def class_average(five_nearest):\n",
    "    mean = 0\n",
    "    for i in range(5):\n",
    "        mean += float(five_nearest[i][0])\n",
    "    mean = mean / 5\n",
    "    if(mean > 0.5):\n",
    "        print('Clase K-NN: 1')\n",
    "        return 1\n",
    "    else:\n",
    "        print('Clase K-NN: 0')\n",
    "        return 0"
   ]
  },
  {
   "cell_type": "code",
   "execution_count": 317,
   "metadata": {},
   "outputs": [],
   "source": [
    "def accuracy():\n",
    "    lista = [five_nearest1, five_nearest2, five_nearest3]\n",
    "    accuracy = 0.0\n",
    "    for i in range(len(test_array_labels)):\n",
    "        if(test_array_labels[i][0] == class_average(lista[i])):\n",
    "            accuracy += 1\n",
    "        print('Clase Real: ' + str(test_array_labels[i][0]))\n",
    "        print('\\n')\n",
    "    accuracy = accuracy / len(test_array_labels)\n",
    "    print('Accuracy: ' + str(accuracy))"
   ]
  },
  {
   "cell_type": "code",
   "execution_count": 318,
   "metadata": {},
   "outputs": [
    {
     "output_type": "stream",
     "name": "stdout",
     "text": [
      "Clase K-NN: 1\nClase Real: 0.0\n\n\nClase K-NN: 1\nClase Real: 0.0\n\n\nClase K-NN: 1\nClase Real: 0.0\n\n\nAccuracy: 0.0\n"
     ]
    }
   ],
   "source": [
    "accuracy()"
   ]
  },
  {
   "source": [
    "# Segmento de Prueba "
   ],
   "cell_type": "markdown",
   "metadata": {}
  },
  {
   "cell_type": "code",
   "execution_count": 300,
   "metadata": {},
   "outputs": [],
   "source": [
    "lista = [five_nearest1, five_nearest2, five_nearest3]"
   ]
  },
  {
   "cell_type": "code",
   "execution_count": 314,
   "metadata": {},
   "outputs": [],
   "source": [
    "# listaclass_average"
   ]
  },
  {
   "cell_type": "code",
   "execution_count": 215,
   "metadata": {},
   "outputs": [],
   "source": [
    "# five_nearest[0][0] # Clase"
   ]
  },
  {
   "cell_type": "code",
   "execution_count": 53,
   "metadata": {},
   "outputs": [],
   "source": [
    "# rdd_prueba2 = sc.textFile('../data/url_svmlight/Distancia_euclideana_5_x_76.svm')"
   ]
  },
  {
   "cell_type": "code",
   "execution_count": 238,
   "metadata": {},
   "outputs": [
    {
     "output_type": "execute_result",
     "data": {
      "text/plain": [
       "list"
      ]
     },
     "metadata": {},
     "execution_count": 238
    }
   ],
   "source": [
    "five_nearest2 = rdd_prueba.takeOrdered(5)\n",
    "type(five_nearest2)"
   ]
  },
  {
   "cell_type": "code",
   "execution_count": 224,
   "metadata": {},
   "outputs": [
    {
     "output_type": "execute_result",
     "data": {
      "text/plain": [
       "'0'"
      ]
     },
     "metadata": {},
     "execution_count": 224
    }
   ],
   "source": [
    "five_nearest2[0][0]"
   ]
  },
  {
   "cell_type": "code",
   "execution_count": 237,
   "metadata": {},
   "outputs": [
    {
     "output_type": "stream",
     "name": "stdout",
     "text": [
      "hola\n"
     ]
    }
   ],
   "source": [
    "print('hola')"
   ]
  },
  {
   "cell_type": "code",
   "execution_count": null,
   "metadata": {},
   "outputs": [],
   "source": []
  }
 ],
 "metadata": {
  "kernelspec": {
   "display_name": "Python 3.8.5 64-bit ('base': conda)",
   "language": "python",
   "name": "python38564bitbaseconda596aabc4316c46b392e16f5639a7998d"
  },
  "language_info": {
   "codemirror_mode": {
    "name": "ipython",
    "version": 3
   },
   "file_extension": ".py",
   "mimetype": "text/x-python",
   "name": "python",
   "nbconvert_exporter": "python",
   "pygments_lexer": "ipython3",
   "version": "3.8.5-final"
  }
 },
 "nbformat": 4,
 "nbformat_minor": 4
}