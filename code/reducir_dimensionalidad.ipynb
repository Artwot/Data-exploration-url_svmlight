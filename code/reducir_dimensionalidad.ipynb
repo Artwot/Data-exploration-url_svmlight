{
 "cells": [
  {
   "cell_type": "markdown",
   "metadata": {},
   "source": [
    "# Reducir dimensionalidad a conjuntos de datos con formato libsvm"
   ]
  },
  {
   "cell_type": "code",
   "execution_count": 1,
   "metadata": {},
   "outputs": [],
   "source": [
    "# Import SparkSession\n",
    "import findspark\n",
    "findspark.init()\n",
    "\n",
    "from pyspark.ml.evaluation import MulticlassClassificationEvaluator\n",
    "from pyspark.ml.classification import MultilayerPerceptronClassifier\n",
    "from pyspark.sql import SparkSession\n",
    "import random\n",
    "import sys\n",
    "#path = str(sys.argv[1])\n",
    "#atr = int(sys.argv[2])"
   ]
  },
  {
   "cell_type": "code",
   "execution_count": 2,
   "metadata": {},
   "outputs": [],
   "source": [
    "# Build the SparkSession\n",
    "spark = SparkSession.builder \\\n",
    "    .master(\"local[6]\") \\\n",
    "    .appName(\"Data exploration URL\") \\\n",
    "    .config(\"spark.executor.memory\", \"4gb\") \\\n",
    "    .getOrCreate()\n",
    "\n",
    "sc = spark.sparkContext"
   ]
  },
  {
   "cell_type": "code",
   "execution_count": 3,
   "metadata": {},
   "outputs": [
    {
     "output_type": "execute_result",
     "data": {
      "text/plain": [
       "[('spark.app.id', 'local-1615387882159'),\n",
       " ('spark.executor.memory', '4gb'),\n",
       " ('spark.driver.port', '36269'),\n",
       " ('spark.driver.memory', '4g'),\n",
       " ('spark.rdd.compress', 'True'),\n",
       " ('spark.serializer.objectStreamReset', '100'),\n",
       " ('spark.submit.pyFiles', ''),\n",
       " ('spark.executor.id', 'driver'),\n",
       " ('spark.submit.deployMode', 'client'),\n",
       " ('spark.app.name', 'Data exploration URL'),\n",
       " ('spark.ui.showConsoleProgress', 'true'),\n",
       " ('spark.master', 'local[6]'),\n",
       " ('spark.driver.host', 'fedora')]"
      ]
     },
     "metadata": {},
     "execution_count": 3
    }
   ],
   "source": [
    "sc._conf.getAll()"
   ]
  },
  {
   "cell_type": "code",
   "execution_count": 30,
   "metadata": {},
   "outputs": [],
   "source": [
    "data = sc.textFile(\"../data/url_svmlight/Dimension_General_x_500.svm\")"
   ]
  },
  {
   "cell_type": "code",
   "execution_count": 31,
   "metadata": {},
   "outputs": [
    {
     "output_type": "execute_result",
     "data": {
      "text/plain": [
       "['1 2:1 4:0.0746888 5:0.124138 6:0.0588235 10:1 11:0.142857 17:0.922497 18:0.859345 19:0.229479 21:0.285713 22:0.0238095 23:0.0238095 24:1 25:1 33:0.0555556 41:0.1 44:1 45:1 47:1 62:1 64:1 66:1 68:1 70:1 72:1 74:1 76:1 82:1 84:1 86:1 88:1 90:1 92:1 94:1 96:1 102:1 104:1 106:1 108:1 110:1 112:1 139:1 141:1 143:1 145:1 149:1']"
      ]
     },
     "metadata": {},
     "execution_count": 31
    }
   ],
   "source": [
    "data.take(1)"
   ]
  },
  {
   "cell_type": "code",
   "execution_count": 14,
   "metadata": {},
   "outputs": [],
   "source": [
    "# Metodo que guarda cada renglon en el archivo .svm\n",
    "def save_file(data, limit):\n",
    "    file = open('../data/url_svmlight/Dimension_General_x_' +str(limit) + '.svm', 'a')\n",
    "    file.write('\\n' + data)\n",
    "    file.close()"
   ]
  },
  {
   "cell_type": "code",
   "execution_count": 15,
   "metadata": {},
   "outputs": [],
   "source": [
    "# Metodo para reducir la dimension, a traves de un ciclo va recorriendo cada posicion de la instancia hasta\n",
    "# llegar al limite establecido, en casos particulares donde la ultima posicion este lejos del limite, se \n",
    "# almacena llamando al metodo save_file() despues de haberse cumplido la condicion del 3er if() anidado.50000\n",
    "def reduce_dimension(row, limit):\n",
    "    instance = row.split(' ')\n",
    "    data = instance[0]\n",
    "\n",
    "    for feature in range(len(instance)):\n",
    "        if (feature > 0): \n",
    "            pos_aux = instance[feature].split(':')\n",
    "            if (int(pos_aux[0]) <= limit):  \n",
    "                data += ' ' + str(instance[feature])\n",
    "                if (len(instance) - 1 == feature):\n",
    "                    save_file(data, limit)\n",
    "            else:\n",
    "                save_file(data, limit)\n",
    "                data = ''\n",
    "                # print('Se rompe el ciclo')\n",
    "                break"
   ]
  },
  {
   "cell_type": "code",
   "execution_count": 32,
   "metadata": {},
   "outputs": [],
   "source": [
    "new_data = data.map(lambda row: reduce_dimension(row, 100)) # El 2o. argumento es el limite de caracteristicas."
   ]
  },
  {
   "cell_type": "code",
   "execution_count": 33,
   "metadata": {},
   "outputs": [
    {
     "output_type": "execute_result",
     "data": {
      "text/plain": [
       "2396130"
      ]
     },
     "metadata": {},
     "execution_count": 33
    }
   ],
   "source": [
    "new_data.count()"
   ]
  },
  {
   "cell_type": "code",
   "execution_count": 13,
   "metadata": {},
   "outputs": [
    {
     "output_type": "execute_result",
     "data": {
      "text/plain": [
       "'/home/jsarabia/Documents/IA/Data-exploration-url_svmlight/code'"
      ]
     },
     "metadata": {},
     "execution_count": 13
    }
   ],
   "source": [
    "pwd"
   ]
  },
  {
   "cell_type": "code",
   "execution_count": 10,
   "metadata": {},
   "outputs": [],
   "source": [
    "# Celda de prueba:\n",
    "# instance = data.take(1)\n",
    "# limit_dimension = 80\n",
    "# reduce_dimension(instance, limit_dimension)"
   ]
  }
 ],
 "metadata": {
  "kernelspec": {
   "display_name": "Python 3.8.5 64-bit ('base': conda)",
   "language": "python",
   "name": "python38564bitbaseconda596aabc4316c46b392e16f5639a7998d"
  },
  "language_info": {
   "codemirror_mode": {
    "name": "ipython",
    "version": 3
   },
   "file_extension": ".py",
   "mimetype": "text/x-python",
   "name": "python",
   "nbconvert_exporter": "python",
   "pygments_lexer": "ipython3",
   "version": "3.8.5-final"
  }
 },
 "nbformat": 4,
 "nbformat_minor": 4
}