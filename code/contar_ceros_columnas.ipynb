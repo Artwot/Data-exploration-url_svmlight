{
 "cells": [
  {
   "cell_type": "markdown",
   "id": "a8e91368-9475-4b82-ae19-01868bbf281d",
   "metadata": {},
   "source": [
    "# Notebook para calcular ceros en un archivo por columna"
   ]
  },
  {
   "cell_type": "code",
   "execution_count": 1,
   "id": "9356521d-e214-4b42-8f04-79decf378431",
   "metadata": {},
   "outputs": [],
   "source": [
    "import findspark\n",
    "findspark.init()\n",
    "import numpy as np\n",
    "from pyspark.sql import SparkSession\n",
    "from pyspark import SparkContext, SparkConf\n",
    "\n",
    "conf = (SparkConf()\n",
    "        .setAppName(\"Calcular Ceros Columnas\") \\\n",
    "        .set('spark.driver.cores', '6') \\\n",
    "        .set('spark.executor.cores', '6') \\\n",
    "        .set('spark.driver.memory', '6G') \\\n",
    "        .set('spark.sql.autoBroadcastJoinThreshold', '-1') \\\n",
    "        .set('spark.executor.memory', '6G'))\n",
    "sc = SparkContext(conf=conf)"
   ]
  },
  {
   "cell_type": "code",
   "execution_count": 2,
   "id": "7ede11f0-6e59-472a-baa7-a26b697c9039",
   "metadata": {},
   "outputs": [],
   "source": [
    "spark = SparkSession.builder.getOrCreate()"
   ]
  },
  {
   "cell_type": "code",
   "execution_count": 3,
   "id": "fc002b46-7d68-4467-807d-65e6ce7a82cc",
   "metadata": {},
   "outputs": [],
   "source": [
    "data = spark.read.format('libsvm')\\\n",
    "    .load(\"../data/url_svmlight/403995_x_instances_10.svm\")"
   ]
  },
  {
   "cell_type": "code",
   "execution_count": 27,
   "id": "525f9c1e-fa3d-4680-a7b2-9184ce96c698",
   "metadata": {},
   "outputs": [
    {
     "data": {
      "text/plain": [
       "[Row(label=0.0, features=SparseVector(76, {3: 0.0581, 4: 0.0897, 5: 0.1765, 10: 0.1429, 20: 0.2857, 21: 0.0238, 23: 1.0, 24: 1.0, 27: 1.0, 35: 1.0, 43: 1.0, 53: 1.0, 55: 1.0, 61: 1.0, 63: 1.0, 65: 1.0, 67: 1.0, 69: 1.0, 71: 1.0, 73: 1.0, 75: 1.0}))]"
      ]
     },
     "execution_count": 27,
     "metadata": {},
     "output_type": "execute_result"
    }
   ],
   "source": [
    "data.take(1)"
   ]
  },
  {
   "cell_type": "code",
   "execution_count": 39,
   "id": "3f6ee872-6ba1-48af-879a-ad00e456e2c0",
   "metadata": {},
   "outputs": [],
   "source": [
    "data2 = data.select('features').rdd.persist()"
   ]
  },
  {
   "cell_type": "code",
   "execution_count": 23,
   "id": "4b5b56e0-b875-4dac-b953-4ec1f23936f6",
   "metadata": {},
   "outputs": [
    {
     "data": {
      "text/plain": [
       "[0.0, 1.0, 1.0, 0.0]"
      ]
     },
     "execution_count": 23,
     "metadata": {},
     "output_type": "execute_result"
    }
   ],
   "source": [
    "data2.map(lambda x: x[0][1]).take(4)"
   ]
  },
  {
   "cell_type": "code",
   "execution_count": 29,
   "id": "443da197-5773-470e-83b1-9f19b75b664d",
   "metadata": {},
   "outputs": [
    {
     "data": {
      "text/plain": [
       "[0.0896552]"
      ]
     },
     "execution_count": 29,
     "metadata": {},
     "output_type": "execute_result"
    }
   ],
   "source": [
    "col = 4\n",
    "data2.map(lambda x: x[0][col]).take(1)"
   ]
  },
  {
   "cell_type": "code",
   "execution_count": 40,
   "id": "6a6f9b4f-a0f7-4b75-9658-17d8c2a00948",
   "metadata": {},
   "outputs": [],
   "source": [
    "# La repartición, en este caso, tarda más milisegundos. \n",
    "data2 = data2.repartition(50)"
   ]
  },
  {
   "cell_type": "code",
   "execution_count": 41,
   "id": "40352f35-bed9-4f10-b7c0-5d4b9f1fec88",
   "metadata": {},
   "outputs": [
    {
     "name": "stdout",
     "output_type": "stream",
     "text": [
      "Columna\tCeros\n",
      "0 \t 10\n",
      "1 \t 4\n",
      "2 \t 10\n",
      "3 \t 0\n",
      "4 \t 0\n",
      "5 \t 0\n",
      "6 \t 10\n",
      "7 \t 10\n",
      "8 \t 9\n",
      "9 \t 6\n",
      "10 \t 0\n",
      "11 \t 10\n",
      "12 \t 10\n",
      "13 \t 10\n",
      "14 \t 10\n",
      "15 \t 3\n",
      "16 \t 1\n",
      "17 \t 1\n",
      "18 \t 1\n",
      "19 \t 7\n",
      "20 \t 0\n",
      "21 \t 0\n",
      "22 \t 6\n",
      "23 \t 3\n",
      "24 \t 5\n",
      "25 \t 10\n",
      "26 \t 9\n",
      "27 \t 6\n",
      "28 \t 10\n",
      "29 \t 10\n",
      "30 \t 9\n",
      "31 \t 9\n",
      "32 \t 6\n",
      "33 \t 9\n",
      "34 \t 10\n",
      "35 \t 5\n",
      "36 \t 7\n",
      "37 \t 9\n",
      "38 \t 10\n",
      "39 \t 9\n",
      "40 \t 7\n",
      "41 \t 9\n",
      "42 \t 10\n",
      "43 \t 4\n",
      "44 \t 7\n",
      "45 \t 10\n",
      "46 \t 10\n",
      "47 \t 9\n",
      "48 \t 10\n",
      "49 \t 10\n",
      "50 \t 10\n",
      "51 \t 10\n",
      "52 \t 10\n",
      "53 \t 0\n",
      "54 \t 10\n",
      "55 \t 0\n",
      "56 \t 10\n",
      "57 \t 9\n",
      "58 \t 10\n",
      "59 \t 9\n",
      "60 \t 10\n",
      "61 \t 0\n",
      "62 \t 10\n",
      "63 \t 0\n",
      "64 \t 10\n",
      "65 \t 0\n",
      "66 \t 10\n",
      "67 \t 0\n",
      "68 \t 10\n",
      "69 \t 0\n",
      "70 \t 10\n",
      "71 \t 0\n",
      "72 \t 10\n",
      "73 \t 0\n",
      "74 \t 7\n",
      "75 \t 0\n",
      "\n",
      "El no. de ceros totales es: 495\n"
     ]
    }
   ],
   "source": [
    "print(\"Columna\\tCeros\")\n",
    "# Contador para el total de ceros. \n",
    "cont_ceros = 0\n",
    "# Número de columnas totales del archivo.\n",
    "total_cols = 76\n",
    "cont_total = 0\n",
    "for i in range(total_cols):\n",
    "    num = data2.filter(lambda x: x[0][i] == 0.0).count()\n",
    "    # Imprimir cada cierto No. de columnas. \n",
    "    if(i < 76):\n",
    "        print(i, \"\\t\", num)\n",
    "    # Aumentar el contador total de ceros que hay en todas las columnas.\n",
    "    cont_total += num\n",
    "print(\"\\nEl no. de ceros totales es:\", cont_total)"
   ]
  },
  {
   "cell_type": "code",
   "execution_count": null,
   "id": "66195f15-35aa-4c60-812d-c1bd518c8909",
   "metadata": {},
   "outputs": [],
   "source": [
    "sc.stop()"
   ]
  },
  {
   "cell_type": "code",
   "execution_count": null,
   "id": "bcfbc4d4-e994-4d75-ae58-dd1a592a5930",
   "metadata": {},
   "outputs": [],
   "source": []
  }
 ],
 "metadata": {
  "kernelspec": {
   "display_name": "Python 3.8 (XPython)",
   "language": "python",
   "name": "xpython"
  },
  "language_info": {
   "file_extension": ".py",
   "mimetype": "text/x-python",
   "name": "python",
   "version": "3.8.8"
  }
 },
 "nbformat": 4,
 "nbformat_minor": 5
}
