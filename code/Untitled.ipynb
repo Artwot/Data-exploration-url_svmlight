{
 "cells": [
  {
   "cell_type": "markdown",
   "id": "a8e91368-9475-4b82-ae19-01868bbf281d",
   "metadata": {},
   "source": [
    "# Notebook para calcular ceros en un archivo por columna"
   ]
  },
  {
   "cell_type": "code",
   "execution_count": 1,
   "id": "9356521d-e214-4b42-8f04-79decf378431",
   "metadata": {},
   "outputs": [],
   "source": [
    "import findspark\n",
    "findspark.init()\n",
    "import numpy as np\n",
    "from pyspark.sql import SparkSession\n",
    "from pyspark import SparkContext, SparkConf\n",
    "\n",
    "conf = (SparkConf()\n",
    "        .setAppName(\"Calcular Ceros Columnas\") \\\n",
    "        .set('spark.driver.cores', '6') \\\n",
    "        .set('spark.executor.cores', '6') \\\n",
    "        .set('spark.driver.memory', '6G') \\\n",
    "        .set('spark.sql.autoBroadcastJoinThreshold', '-1') \\\n",
    "        .set('spark.executor.memory', '6G'))\n",
    "sc = SparkContext(conf=conf)"
   ]
  },
  {
   "cell_type": "code",
   "execution_count": 2,
   "id": "7ede11f0-6e59-472a-baa7-a26b697c9039",
   "metadata": {},
   "outputs": [],
   "source": [
    "spark = SparkSession.builder.getOrCreate()"
   ]
  },
  {
   "cell_type": "code",
   "execution_count": 7,
   "id": "fc002b46-7d68-4467-807d-65e6ce7a82cc",
   "metadata": {},
   "outputs": [],
   "source": [
    "data = spark.read.format('libsvm')\\\n",
    "    .load(\"../data/url_svmlight/Dimension_5_x_76.svm\")"
   ]
  },
  {
   "cell_type": "code",
   "execution_count": 8,
   "id": "3f6ee872-6ba1-48af-879a-ad00e456e2c0",
   "metadata": {},
   "outputs": [],
   "source": [
    "data2 = data.select('features').rdd"
   ]
  },
  {
   "cell_type": "code",
   "execution_count": 5,
   "id": "6a6f9b4f-a0f7-4b75-9658-17d8c2a00948",
   "metadata": {},
   "outputs": [],
   "source": [
    "# La repartición, en este caso, tarda más milisegundos. \n",
    "# data2 = data2.repartition(50)"
   ]
  },
  {
   "cell_type": "code",
   "execution_count": 16,
   "id": "40352f35-bed9-4f10-b7c0-5d4b9f1fec88",
   "metadata": {},
   "outputs": [
    {
     "name": "stdout",
     "output_type": "stream",
     "text": [
      "Columna\tCeros\n",
      "0 \t 10\n",
      "10 \t 0\n",
      "20 \t 0\n",
      "30 \t 9\n",
      "40 \t 7\n",
      "50 \t 10\n",
      "60 \t 10\n",
      "70 \t 10\n",
      "\n",
      "El no. de ceros totales es: 16\n"
     ]
    }
   ],
   "source": [
    "print(\"Columna\\tCeros\")\n",
    "# Contador para el total de ceros. \n",
    "cont_ceros = 0\n",
    "# Número de columnas totales del archivo.\n",
    "total_cols = 76\n",
    "for i in range(total_cols):\n",
    "    num = data2.filter(lambda x: x[0][i] == 0.0).count()\n",
    "    # Imprimir cada cierto No. de columnas. \n",
    "    if(i % 10 == 0):\n",
    "        print(i, \"\\t\", num)\n",
    "    # Aumentar el contador total de ceros que hay en todas las columnas.\n",
    "    if (num == 0.0):\n",
    "        cont_ceros += 1\n",
    "print(\"\\nEl no. de ceros totales es:\", cont_ceros)"
   ]
  },
  {
   "cell_type": "code",
   "execution_count": null,
   "id": "66195f15-35aa-4c60-812d-c1bd518c8909",
   "metadata": {},
   "outputs": [],
   "source": [
    "sc.stop()"
   ]
  },
  {
   "cell_type": "code",
   "execution_count": null,
   "id": "bcfbc4d4-e994-4d75-ae58-dd1a592a5930",
   "metadata": {},
   "outputs": [],
   "source": []
  }
 ],
 "metadata": {
  "kernelspec": {
   "display_name": "Python 3.8 (XPython)",
   "language": "python",
   "name": "xpython"
  },
  "language_info": {
   "file_extension": ".py",
   "mimetype": "text/x-python",
   "name": "python",
   "version": "3.8.8"
  }
 },
 "nbformat": 4,
 "nbformat_minor": 5
}
